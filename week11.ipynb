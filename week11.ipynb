{
  "nbformat": 4,
  "nbformat_minor": 0,
  "metadata": {
    "colab": {
      "name": "week11.ipynb",
      "provenance": [],
      "authorship_tag": "ABX9TyOoAurJsWL9fZzhOWCoPe/a",
      "include_colab_link": true
    },
    "kernelspec": {
      "name": "python3",
      "display_name": "Python 3"
    }
  },
  "cells": [
    {
      "cell_type": "markdown",
      "metadata": {
        "id": "view-in-github",
        "colab_type": "text"
      },
      "source": [
        "<a href=\"https://colab.research.google.com/github/sonehypnos/Computational-Thnking-1/blob/master/week11.ipynb\" target=\"_parent\"><img src=\"https://colab.research.google.com/assets/colab-badge.svg\" alt=\"Open In Colab\"/></a>"
      ]
    },
    {
      "cell_type": "code",
      "metadata": {
        "colab": {
          "base_uri": "https://localhost:8080/"
        },
        "id": "cukn-RNPs4Ik",
        "outputId": "a54dff60-03fd-4a74-9127-56e7a08be23f"
      },
      "source": [
        "x = input(\"請輸入座號\")\n",
        "x = int(x)\n",
        "a = x//5\n",
        "if x%5>=1:\n",
        "  a+=1\n",
        "  print(\"組別為\",a)\n",
        "\n",
        "else: \n",
        "  print(\"組別為\",a)"
      ],
      "execution_count": 9,
      "outputs": [
        {
          "output_type": "stream",
          "text": [
            "請輸入座號61\n",
            "組別為 13\n"
          ],
          "name": "stdout"
        }
      ]
    }
  ]
}